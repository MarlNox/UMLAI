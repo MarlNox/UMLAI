{
 "cells": [
  {
   "cell_type": "code",
   "execution_count": 1,
   "id": "0a0bfa6f-8c19-4120-98cc-6fb552907883",
   "metadata": {
    "tags": []
   },
   "outputs": [
    {
     "name": "stderr",
     "output_type": "stream",
     "text": [
      "2024-01-11 04:48:32.394904: E tensorflow/compiler/xla/stream_executor/cuda/cuda_dnn.cc:9342] Unable to register cuDNN factory: Attempting to register factory for plugin cuDNN when one has already been registered\n",
      "2024-01-11 04:48:32.394932: E tensorflow/compiler/xla/stream_executor/cuda/cuda_fft.cc:609] Unable to register cuFFT factory: Attempting to register factory for plugin cuFFT when one has already been registered\n",
      "2024-01-11 04:48:32.394952: E tensorflow/compiler/xla/stream_executor/cuda/cuda_blas.cc:1518] Unable to register cuBLAS factory: Attempting to register factory for plugin cuBLAS when one has already been registered\n",
      "2024-01-11 04:48:32.399975: I tensorflow/core/platform/cpu_feature_guard.cc:182] This TensorFlow binary is optimized to use available CPU instructions in performance-critical operations.\n",
      "To enable the following instructions: AVX2 FMA, in other operations, rebuild TensorFlow with the appropriate compiler flags.\n"
     ]
    }
   ],
   "source": [
    "import cv2\n",
    "from Rectangle.rectangle import RectangleRemover\n",
    "from OCR.OCRscan import OCRscan\n",
    "from LineDetection.findcountmethod import LineDetection\n"
   ]
  },
  {
   "cell_type": "code",
   "execution_count": null,
   "id": "737d28d6-6e8b-4233-a4f9-2e5180b6e0aa",
   "metadata": {
    "tags": []
   },
   "outputs": [],
   "source": [
    "    # This line allows CNTL-C in the terminal to kill the program\n",
    "    # signal.signal(signal.SIGINT, signal.SIG_DFL)\n",
    "    img = cv2.imread(\"OCR/SimpleAsteroid.png\", cv2.IMREAD_GRAYSCALE)\n",
    "    ocr = OCRscan()\n",
    "    img, words, text_list = ocr.scan(img)\n",
    "    app = RectangleRemover(img, words, text_list)\n",
    "    classes, image_no_rec = app.remove_rectangle()\n",
    "    lineDetection = LineDetection()\n",
    "    lineDetection.detectLine(classes, image_no_rec)\n",
    "    # sys.exit(app.exec())"
   ]
  },
  {
   "cell_type": "code",
   "execution_count": null,
   "id": "2a3055b5-dc6b-4763-92d0-311d8ac51614",
   "metadata": {},
   "outputs": [],
   "source": []
  }
 ],
 "metadata": {
  "kernelspec": {
   "display_name": "Python 3 (ipykernel)",
   "language": "python",
   "name": "python3"
  },
  "language_info": {
   "codemirror_mode": {
    "name": "ipython",
    "version": 3
   },
   "file_extension": ".py",
   "mimetype": "text/x-python",
   "name": "python",
   "nbconvert_exporter": "python",
   "pygments_lexer": "ipython3",
   "version": "3.10.11"
  }
 },
 "nbformat": 4,
 "nbformat_minor": 5
}
